{
 "cells": [
  {
   "cell_type": "markdown",
   "metadata": {},
   "source": [
    "# Functional Programming\n",
    "The rules\n",
    "* Computation is the evaluation of functions\n",
    "* Programming is done with expressions\n",
    "* No side-effects from computation\n",
    "* Functions are first-class citizens\n",
    "* Functions should be limited in scope and functionality\n",
    "\n",
    "global and nonlocal let you work with variables from a higher scope. You should have a really good reason before using either of these!\n",
    "\n",
    "global and nonlocal docs https://docs.python.org/3/reference/simple_stmts.html#the-global-statement"
   ]
  },
  {
   "cell_type": "markdown",
   "metadata": {},
   "source": [
    "__Bad example of calling a method on a mutable data type :__\n",
    "\n",
    "Just by looking at:\n",
    "```python\n",
    "print(very_important_list)\n",
    "mutate()\n",
    "print(very_important_list)\n",
    "```\n",
    "You'd think the two print statements would print the same thing, right?"
   ]
  },
  {
   "cell_type": "code",
   "execution_count": 1,
   "metadata": {
    "collapsed": false
   },
   "outputs": [
    {
     "name": "stdout",
     "output_type": "stream",
     "text": [
      "[5, 2, 3, 1]\n",
      "[1, 2, 3, 5]\n"
     ]
    }
   ],
   "source": [
    "very_important_list = [5, 2, 3, 1]\n",
    "\n",
    "def mutate():\n",
    "    very_important_list.sort()\n",
    "    \n",
    "print(very_important_list)\n",
    "mutate()\n",
    "print(very_important_list)"
   ]
  },
  {
   "cell_type": "markdown",
   "metadata": {},
   "source": [
    "However, as we can say this is not the case (change in order). This is due to the list becoming permanently sorted in memory."
   ]
  },
  {
   "cell_type": "markdown",
   "metadata": {},
   "source": [
    "__A bad example using 'global' for a variable :__"
   ]
  },
  {
   "cell_type": "code",
   "execution_count": 2,
   "metadata": {
    "collapsed": false
   },
   "outputs": [
    {
     "name": "stdout",
     "output_type": "stream",
     "text": [
      "Kenneth\n",
      "James\n"
     ]
    }
   ],
   "source": [
    "name = 'Kenneth'\n",
    "\n",
    "def global_use():\n",
    "    global name\n",
    "    name = 'James'\n",
    "    \n",
    "print(name)\n",
    "global_use()\n",
    "print(name)"
   ]
  },
  {
   "cell_type": "markdown",
   "metadata": {},
   "source": [
    "# Sorting\n",
    "``sorted()`` takes an iterable to sort and returns a new list from it. If you need to customize the sorting, pass a function in as the key argument. There's an optional reverse argument that will cause the results to be reversed before they're returned.\n",
    "\n",
    "``operator.itemgetter()``gets items from an object that supports that operation. We use it to get keys from dicts but it has other uses too.\n",
    "\n",
    "``operator.attrgetter()`` gets attributes from an object.\n",
    "\n",
    "Wait, you didn't talk about reversed in the video!\n",
    "\n",
    "``reversed()`` is important but isn't all the unique or remarkable for a video right next to ``sorted(reverse=True)`` so I left it out. But good job, you, finding it here!\n",
    "\n",
    "``reversed()`` takes an iterable and reverses it, returning a new iterable. This new iterable has to be turned into a list/tuple/etc to get items from it by index."
   ]
  },
  {
   "cell_type": "markdown",
   "metadata": {},
   "source": [
    "__Sorted Example :__"
   ]
  },
  {
   "cell_type": "code",
   "execution_count": 3,
   "metadata": {
    "collapsed": false
   },
   "outputs": [
    {
     "name": "stdout",
     "output_type": "stream",
     "text": [
      "Before [3, 4, 4, 6, 8, 5]\n",
      "Sorted [3, 4, 4, 5, 6, 8]\n",
      "After [3, 4, 4, 6, 8, 5]\n"
     ]
    }
   ],
   "source": [
    "important_list = [3, 4, 4, 6, 8, 5]\n",
    "print('Before',important_list)\n",
    "print('Sorted',sorted(important_list))\n",
    "print('After',important_list)"
   ]
  },
  {
   "cell_type": "code",
   "execution_count": 5,
   "metadata": {
    "collapsed": false
   },
   "outputs": [
    {
     "name": "stdout",
     "output_type": "stream",
     "text": [
      "245 1141\n"
     ]
    }
   ],
   "source": [
    "import json\n",
    "from operator import attrgetter, itemgetter\n",
    "\n",
    "\n",
    "class Book:\n",
    "    def __init__(self, **kwargs):\n",
    "        for k, v in kwargs.items():\n",
    "            setattr(self, k, v)\n",
    "\n",
    "    def __str__(self):\n",
    "        return self.title\n",
    "    \n",
    "    def __repr__(self):\n",
    "        return str(self)\n",
    "    \n",
    "    \n",
    "def get_books(filename, raw=False):\n",
    "    try:\n",
    "        data = json.load(open(filename))\n",
    "    except FileNotFoundError:\n",
    "        return []\n",
    "    else:\n",
    "        if raw:\n",
    "            return data['books']\n",
    "        return [Book(**book) for book in data['books']]\n",
    "    \n",
    "BOOKS = get_books('books.json')\n",
    "RAW_BOOKS = get_books('books.json', raw=True)\n",
    "\n",
    "# pub_sort = sorted(RAW_BOOKS, key=itemgetter('publish_date'))\n",
    "# print(pub_sort[0]['publish_date'], pub_sort[-1]['publish_date'])\n",
    "\n",
    "pages_sort = sorted(BOOKS, key=attrgetter('number_of_pages'))\n",
    "print(pages_sort[0].number_of_pages,pages_sort[-1].number_of_pages)"
   ]
  },
  {
   "cell_type": "code",
   "execution_count": null,
   "metadata": {
    "collapsed": true
   },
   "outputs": [],
   "source": []
  }
 ],
 "metadata": {
  "kernelspec": {
   "display_name": "Python 3",
   "language": "python",
   "name": "python3"
  },
  "language_info": {
   "codemirror_mode": {
    "name": "ipython",
    "version": 3
   },
   "file_extension": ".py",
   "mimetype": "text/x-python",
   "name": "python",
   "nbconvert_exporter": "python",
   "pygments_lexer": "ipython3",
   "version": "3.6.0"
  }
 },
 "nbformat": 4,
 "nbformat_minor": 2
}
